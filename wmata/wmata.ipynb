{
 "cells": [
  {
   "cell_type": "code",
   "execution_count": 22,
   "metadata": {},
   "outputs": [],
   "source": [
    "import http.client, urllib.request, urllib.parse, urllib.error, base64, json"
   ]
  },
  {
   "cell_type": "code",
   "execution_count": 68,
   "metadata": {},
   "outputs": [],
   "source": [
    "headers = {\n",
    "    # Request headers\n",
    "    'api_key': '5859ec38dae042d9a3803331505c78d7',\n",
    "}\n",
    "\n",
    "\n",
    "# Court House station\n",
    "station_codes = 'K01'\n",
    "\n",
    "# destination is Wiehle\n",
    "params = urllib.parse.urlencode({\n",
    "    # Request parameters\n",
    "    'DestinationCode': 'N06'\n",
    "})"
   ]
  },
  {
   "cell_type": "code",
   "execution_count": 71,
   "metadata": {},
   "outputs": [
    {
     "data": {
      "text/plain": [
       "'/StationPrediction.svc/json/GetPrediction/K01?DestinationCode=N06'"
      ]
     },
     "execution_count": 71,
     "metadata": {},
     "output_type": "execute_result"
    }
   ],
   "source": [
    "f\"/StationPrediction.svc/json/GetPrediction/{station_codes}?{params}\""
   ]
  },
  {
   "cell_type": "code",
   "execution_count": 74,
   "metadata": {
    "scrolled": false
   },
   "outputs": [
    {
     "name": "stdout",
     "output_type": "stream",
     "text": [
      "{'Trains': [{'Car': '6', 'Destination': 'Largo', 'DestinationCode': 'G05', 'DestinationName': 'Largo Town Center', 'Group': '1', 'Line': 'SV', 'LocationCode': 'K01', 'LocationName': 'Court House', 'Min': 'BRD'}, {'Car': '8', 'Destination': 'NewCrltn', 'DestinationCode': 'D13', 'DestinationName': 'New Carrollton', 'Group': '1', 'Line': 'OR', 'LocationCode': 'K01', 'LocationName': 'Court House', 'Min': '2'}, {'Car': '6', 'Destination': 'Wiehle', 'DestinationCode': 'N06', 'DestinationName': 'Wiehle-Reston East', 'Group': '2', 'Line': 'SV', 'LocationCode': 'K01', 'LocationName': 'Court House', 'Min': '2'}, {'Car': '6', 'Destination': 'Vienna', 'DestinationCode': 'K08', 'DestinationName': 'Vienna/Fairfax-GMU', 'Group': '2', 'Line': 'OR', 'LocationCode': 'K01', 'LocationName': 'Court House', 'Min': '7'}, {'Car': '6', 'Destination': 'Largo', 'DestinationCode': 'G05', 'DestinationName': 'Largo Town Center', 'Group': '1', 'Line': 'SV', 'LocationCode': 'K01', 'LocationName': 'Court House', 'Min': '8'}, {'Car': '6', 'Destination': 'Wiehle', 'DestinationCode': 'N06', 'DestinationName': 'Wiehle-Reston East', 'Group': '2', 'Line': 'SV', 'LocationCode': 'K01', 'LocationName': 'Court House', 'Min': '9'}]}\n"
     ]
    }
   ],
   "source": [
    "try:\n",
    "    conn = http.client.HTTPSConnection('api.wmata.com')\n",
    "    conn.request(\"GET\", f\"/StationPrediction.svc/json/GetPrediction/{station_codes}?%s\" % params, \"{body}\", headers)\n",
    "    response = conn.getresponse()\n",
    "    r = response.read()\n",
    "    data = json.loads(r.decode('utf-8'))\n",
    "    print(data)\n",
    "    conn.close()\n",
    "except Exception as e:\n",
    "    print(\"[Errno {0}] {1}\".format(e.errno, e.strerror))"
   ]
  },
  {
   "cell_type": "code",
   "execution_count": 78,
   "metadata": {},
   "outputs": [
    {
     "data": {
      "text/plain": [
       "['2', '9']"
      ]
     },
     "execution_count": 78,
     "metadata": {},
     "output_type": "execute_result"
    }
   ],
   "source": [
    "[i['Min'] for i in data['Trains'] if i['DestinationCode'] == 'N06']"
   ]
  },
  {
   "cell_type": "code",
   "execution_count": null,
   "metadata": {},
   "outputs": [],
   "source": []
  }
 ],
 "metadata": {
  "kernelspec": {
   "display_name": "Python 3",
   "language": "python",
   "name": "python3"
  },
  "language_info": {
   "codemirror_mode": {
    "name": "ipython",
    "version": 3
   },
   "file_extension": ".py",
   "mimetype": "text/x-python",
   "name": "python",
   "nbconvert_exporter": "python",
   "pygments_lexer": "ipython3",
   "version": "3.6.3"
  }
 },
 "nbformat": 4,
 "nbformat_minor": 2
}
